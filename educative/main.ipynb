{
 "cells": [
  {
   "cell_type": "code",
   "execution_count": 1,
   "id": "6d474e97",
   "metadata": {},
   "outputs": [],
   "source": [
    "import numpy as np"
   ]
  },
  {
   "cell_type": "code",
   "execution_count": 6,
   "id": "1a2fdcf0",
   "metadata": {},
   "outputs": [],
   "source": [
    "arr = np.arange(0, 50, 1).reshape(10, 5)"
   ]
  },
  {
   "cell_type": "code",
   "execution_count": 10,
   "id": "5353d9b7",
   "metadata": {},
   "outputs": [
    {
     "name": "stdout",
     "output_type": "stream",
     "text": [
      "Original Array\n",
      "[[ 0  1  2  3  4]\n",
      " [ 5  6  7  8  9]\n",
      " [10 11 12 13 14]\n",
      " [15 16 17 18 19]\n",
      " [20 21 22 23 24]\n",
      " [25 26 27 28 29]\n",
      " [30 31 32 33 34]\n",
      " [35 36 37 38 39]\n",
      " [40 41 42 43 44]\n",
      " [45 46 47 48 49]]\n",
      "Transposed Array\n",
      "[[ 0  5 10 15 20 25 30 35 40 45]\n",
      " [ 1  6 11 16 21 26 31 36 41 46]\n",
      " [ 2  7 12 17 22 27 32 37 42 47]\n",
      " [ 3  8 13 18 23 28 33 38 43 48]\n",
      " [ 4  9 14 19 24 29 34 39 44 49]]\n"
     ]
    }
   ],
   "source": [
    "print(\"Original Array\")\n",
    "print(arr)\n",
    "print(\"Transposed Array\")\n",
    "print(arr.T) # arr.T or arr.transpose()"
   ]
  },
  {
   "cell_type": "code",
   "execution_count": 18,
   "id": "0a427358",
   "metadata": {},
   "outputs": [
    {
     "name": "stdout",
     "output_type": "stream",
     "text": [
      "[[1.00000000e+00 2.71828183e+00 7.38905610e+00 2.00855369e+01\n",
      "  5.45981500e+01]\n",
      " [1.48413159e+02 4.03428793e+02 1.09663316e+03 2.98095799e+03\n",
      "  8.10308393e+03]\n",
      " [2.20264658e+04 5.98741417e+04 1.62754791e+05 4.42413392e+05\n",
      "  1.20260428e+06]\n",
      " [3.26901737e+06 8.88611052e+06 2.41549528e+07 6.56599691e+07\n",
      "  1.78482301e+08]\n",
      " [4.85165195e+08 1.31881573e+09 3.58491285e+09 9.74480345e+09\n",
      "  2.64891221e+10]\n",
      " [7.20048993e+10 1.95729609e+11 5.32048241e+11 1.44625706e+12\n",
      "  3.93133430e+12]\n",
      " [1.06864746e+13 2.90488497e+13 7.89629602e+13 2.14643580e+14\n",
      "  5.83461743e+14]\n",
      " [1.58601345e+15 4.31123155e+15 1.17191424e+16 3.18559318e+16\n",
      "  8.65934004e+16]\n",
      " [2.35385267e+17 6.39843494e+17 1.73927494e+18 4.72783947e+18\n",
      "  1.28516001e+19]\n",
      " [3.49342711e+19 9.49611942e+19 2.58131289e+20 7.01673591e+20\n",
      "  1.90734657e+21]]\n",
      "[[   0    1    4    9   16]\n",
      " [  25   36   49   64   81]\n",
      " [ 100  121  144  169  196]\n",
      " [ 225  256  289  324  361]\n",
      " [ 400  441  484  529  576]\n",
      " [ 625  676  729  784  841]\n",
      " [ 900  961 1024 1089 1156]\n",
      " [1225 1296 1369 1444 1521]\n",
      " [1600 1681 1764 1849 1936]\n",
      " [2025 2116 2209 2304 2401]]\n",
      "[[0.         1.         1.41421356 1.73205081 2.        ]\n",
      " [2.23606798 2.44948974 2.64575131 2.82842712 3.        ]\n",
      " [3.16227766 3.31662479 3.46410162 3.60555128 3.74165739]\n",
      " [3.87298335 4.         4.12310563 4.24264069 4.35889894]\n",
      " [4.47213595 4.58257569 4.69041576 4.79583152 4.89897949]\n",
      " [5.         5.09901951 5.19615242 5.29150262 5.38516481]\n",
      " [5.47722558 5.56776436 5.65685425 5.74456265 5.83095189]\n",
      " [5.91607978 6.         6.08276253 6.164414   6.244998  ]\n",
      " [6.32455532 6.40312424 6.4807407  6.55743852 6.63324958]\n",
      " [6.70820393 6.78232998 6.8556546  6.92820323 7.        ]]\n",
      "[[0.         1.         1.25992105 1.44224957 1.58740105]\n",
      " [1.70997595 1.81712059 1.91293118 2.         2.08008382]\n",
      " [2.15443469 2.22398009 2.28942849 2.35133469 2.41014226]\n",
      " [2.46621207 2.5198421  2.57128159 2.62074139 2.66840165]\n",
      " [2.71441762 2.75892418 2.80203933 2.84386698 2.88449914]\n",
      " [2.92401774 2.96249607 3.         3.03658897 3.07231683]\n",
      " [3.10723251 3.14138065 3.1748021  3.20753433 3.2396118 ]\n",
      " [3.27106631 3.30192725 3.33222185 3.36197541 3.39121144]\n",
      " [3.41995189 3.44821724 3.47602664 3.50339806 3.53034834]\n",
      " [3.5568933  3.58304787 3.60882608 3.63424119 3.65930571]]\n"
     ]
    }
   ],
   "source": [
    "print(np.exp(arr))    # get exponent of every element\n",
    "print(np.square(arr)) # get square of every element\n",
    "print(np.sqrt(arr))   # get square root of every element\n",
    "print(np.cbrt(arr))   # get the cube root of every element\n",
    "# np.add(arr1, arr2)  # add corresponding elements of two arrays\n",
    "# np.substract(arr1, arr2) # substract corresponding elements of two arrays"
   ]
  },
  {
   "cell_type": "markdown",
   "id": "3c17f51e",
   "metadata": {},
   "source": [
    "## Numpy where function"
   ]
  },
  {
   "cell_type": "code",
   "execution_count": 19,
   "id": "c0546a09",
   "metadata": {},
   "outputs": [
    {
     "name": "stdout",
     "output_type": "stream",
     "text": [
      "[500  20 700  40]\n"
     ]
    }
   ],
   "source": [
    "arr1 =  np.array([10, 20, 30, 40])\n",
    "arr2 = np.array([500, 600, 700, 800])\n",
    "\n",
    "cond = np.array([False, True, False, True]) # Create an array with bool operators\n",
    "res = np.where(cond, arr1, arr2) # apply the where condition\n",
    "print(res)"
   ]
  },
  {
   "cell_type": "markdown",
   "id": "d52e0738",
   "metadata": {},
   "source": [
    "## Array loading and saving"
   ]
  },
  {
   "cell_type": "code",
   "execution_count": 24,
   "id": "3557b2d9",
   "metadata": {},
   "outputs": [
    {
     "name": "stdout",
     "output_type": "stream",
     "text": [
      "Original Array\n",
      "[-0.33186079 -0.10341472 -0.55859316 -1.06244043 -1.14209928 -0.43120192\n",
      "  1.0256367 ]\n",
      "\n",
      "Array loaded from file\n",
      "[-0.33186079 -0.10341472 -0.55859316 -1.06244043 -1.14209928 -0.43120192\n",
      "  1.0256367 ]\n"
     ]
    }
   ],
   "source": [
    "arr1 = np.random.randn(7)\n",
    "print(\"Original Array\")\n",
    "print(arr1)\n",
    "\n",
    "np.save(\"arr1_saved\", arr1) # save the array as file (.npy)\n",
    "\n",
    "arr2 = np.load(\"arr1_saved.npy\") # Load the saved array from file\n",
    "\n",
    "print(\"\\nArray loaded from file\")\n",
    "print(arr2)"
   ]
  }
 ],
 "metadata": {
  "kernelspec": {
   "display_name": "Python 3 (ipykernel)",
   "language": "python",
   "name": "python3"
  },
  "language_info": {
   "codemirror_mode": {
    "name": "ipython",
    "version": 3
   },
   "file_extension": ".py",
   "mimetype": "text/x-python",
   "name": "python",
   "nbconvert_exporter": "python",
   "pygments_lexer": "ipython3",
   "version": "3.7.11"
  }
 },
 "nbformat": 4,
 "nbformat_minor": 5
}
