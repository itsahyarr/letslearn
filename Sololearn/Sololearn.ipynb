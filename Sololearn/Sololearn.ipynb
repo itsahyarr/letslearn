{
 "cells": [
  {
   "cell_type": "markdown",
   "id": "a65437e0",
   "metadata": {},
   "source": [
    "## Recursion"
   ]
  },
  {
   "cell_type": "code",
   "execution_count": 1,
   "id": "6b7d0dcf",
   "metadata": {},
   "outputs": [
    {
     "name": "stdout",
     "output_type": "stream",
     "text": [
      "120\n"
     ]
    }
   ],
   "source": [
    "def factorial(x):\n",
    "    if x == 1:\n",
    "        return 1\n",
    "    else:\n",
    "        return x * factorial(x-1)\n",
    "print(factorial(5))"
   ]
  },
  {
   "cell_type": "code",
   "execution_count": 7,
   "id": "4bca7498",
   "metadata": {},
   "outputs": [
    {
     "name": "stdout",
     "output_type": "stream",
     "text": [
      "True\n",
      "True\n"
     ]
    }
   ],
   "source": [
    "def is_even(x):\n",
    "    if x == 0:\n",
    "        return True\n",
    "    else:\n",
    "        return is_odd(x-1)\n",
    "def is_odd(x):\n",
    "    return not is_even(x)\n",
    "\n",
    "print(is_odd(17))\n",
    "print(is_even(22))"
   ]
  },
  {
   "cell_type": "markdown",
   "id": "9de8fcbb",
   "metadata": {},
   "source": [
    "## Sets"
   ]
  },
  {
   "cell_type": "code",
   "execution_count": 1,
   "id": "e92fee40",
   "metadata": {},
   "outputs": [],
   "source": [
    "num_set = {1,2,3,4,5}"
   ]
  },
  {
   "cell_type": "code",
   "execution_count": 2,
   "id": "fd853b4b",
   "metadata": {},
   "outputs": [],
   "source": [
    "word_set = set([\"spam\",\"eggs\",\"sausage\"])"
   ]
  },
  {
   "cell_type": "code",
   "execution_count": 3,
   "id": "1d97e15f",
   "metadata": {},
   "outputs": [
    {
     "name": "stdout",
     "output_type": "stream",
     "text": [
      "True\n",
      "False\n"
     ]
    }
   ],
   "source": [
    "print(3 in num_set)\n",
    "print(\"spam\" not in word_set)"
   ]
  },
  {
   "cell_type": "code",
   "execution_count": 5,
   "id": "ff89717a",
   "metadata": {},
   "outputs": [
    {
     "data": {
      "text/plain": [
       "set"
      ]
     },
     "execution_count": 5,
     "metadata": {},
     "output_type": "execute_result"
    }
   ],
   "source": [
    "empty_set = set()\n",
    "type(empty_set)"
   ]
  },
  {
   "cell_type": "code",
   "execution_count": 7,
   "id": "38ea78f8",
   "metadata": {},
   "outputs": [],
   "source": [
    "# List can't contain duplicate elements\n",
    "nums = {1,2,1,3,1,4,5,6}"
   ]
  },
  {
   "cell_type": "code",
   "execution_count": 9,
   "id": "85dd00e0",
   "metadata": {},
   "outputs": [
    {
     "name": "stdout",
     "output_type": "stream",
     "text": [
      "{1, 2, 3, 4, 5, 6, -7}\n",
      "{1, 2, 3, 4, 5, 6, -7}\n"
     ]
    }
   ],
   "source": [
    "# print(nums)\n",
    "nums.add(-7)\n",
    "print(nums)"
   ]
  },
  {
   "cell_type": "code",
   "execution_count": 13,
   "id": "0bd6db96",
   "metadata": {},
   "outputs": [
    {
     "name": "stdout",
     "output_type": "stream",
     "text": [
      "{1, 2, 4, 5, 6, -7}\n"
     ]
    }
   ],
   "source": [
    "# nums.remove(3)\n",
    "print(nums)\n",
    "\n",
    "# Basic uses of sets include membership testing and the elimination of duplicate entries."
   ]
  },
  {
   "cell_type": "code",
   "execution_count": 15,
   "id": "41b0bbc9",
   "metadata": {},
   "outputs": [
    {
     "data": {
      "text/plain": [
       "'\\nThe union operator | combines two sets to form a new one containing items in either.\\nThe intersection operator & gets items only in both.\\nThe difference operator - gets items in the first set but not in the second.\\nThe symmetric difference operator ^ gets items in either set, but not both.\\n'"
      ]
     },
     "execution_count": 15,
     "metadata": {},
     "output_type": "execute_result"
    }
   ],
   "source": [
    "\"\"\"\n",
    "The union operator | combines two sets to form a new one containing items in either.\n",
    "The intersection operator & gets items only in both.\n",
    "The difference operator - gets items in the first set but not in the second.\n",
    "The symmetric difference operator ^ gets items in either set, but not both.\n",
    "\"\"\""
   ]
  },
  {
   "cell_type": "code",
   "execution_count": 16,
   "id": "a887c136",
   "metadata": {},
   "outputs": [],
   "source": [
    "first = {1,2,3,4,5,6}\n",
    "second = {4,5,6,7,8,9}"
   ]
  },
  {
   "cell_type": "code",
   "execution_count": 17,
   "id": "d4e52498",
   "metadata": {},
   "outputs": [
    {
     "name": "stdout",
     "output_type": "stream",
     "text": [
      "{1, 2, 3, 4, 5, 6, 7, 8, 9}\n",
      "{4, 5, 6}\n",
      "{1, 2, 3}\n",
      "{1, 2, 3, 7, 8, 9}\n"
     ]
    }
   ],
   "source": [
    "print(first | second)\n",
    "print(first & second)\n",
    "print(first - second)\n",
    "print(first ^ second)"
   ]
  },
  {
   "cell_type": "markdown",
   "id": "888d2a85",
   "metadata": {},
   "source": [
    "## Itertools"
   ]
  },
  {
   "cell_type": "code",
   "execution_count": 23,
   "id": "c30b9ce8",
   "metadata": {},
   "outputs": [],
   "source": [
    "from itertools import count,accumulate,takewhile"
   ]
  },
  {
   "cell_type": "code",
   "execution_count": 22,
   "id": "acadffa5",
   "metadata": {},
   "outputs": [
    {
     "name": "stdout",
     "output_type": "stream",
     "text": [
      "3\n",
      "4\n",
      "5\n",
      "6\n",
      "7\n",
      "8\n",
      "9\n",
      "10\n",
      "11\n"
     ]
    }
   ],
   "source": [
    "for i in count(3):\n",
    "    print(i)\n",
    "    if i >= 11:\n",
    "        break"
   ]
  },
  {
   "cell_type": "code",
   "execution_count": 24,
   "id": "e7e75a88",
   "metadata": {},
   "outputs": [],
   "source": [
    "num = list(accumulate(range(8)))"
   ]
  },
  {
   "cell_type": "code",
   "execution_count": 25,
   "id": "39280251",
   "metadata": {},
   "outputs": [
    {
     "name": "stdout",
     "output_type": "stream",
     "text": [
      "{1, 2, 4, 5, 6, -7}\n"
     ]
    }
   ],
   "source": [
    "print(nums)"
   ]
  },
  {
   "cell_type": "code",
   "execution_count": 26,
   "id": "55bcd378",
   "metadata": {},
   "outputs": [
    {
     "name": "stdout",
     "output_type": "stream",
     "text": [
      "[1, 2, 4, 5, 6, -7]\n"
     ]
    }
   ],
   "source": [
    "print(list(takewhile(lambda x: x <= 6, nums)))"
   ]
  },
  {
   "cell_type": "code",
   "execution_count": 27,
   "id": "4b5994be",
   "metadata": {},
   "outputs": [],
   "source": [
    "from itertools import product,permutations"
   ]
  },
  {
   "cell_type": "code",
   "execution_count": 29,
   "id": "a526e78e",
   "metadata": {},
   "outputs": [],
   "source": [
    "letters = (\"A\",\"B\")"
   ]
  },
  {
   "cell_type": "code",
   "execution_count": 33,
   "id": "5fdafa61",
   "metadata": {},
   "outputs": [
    {
     "name": "stdout",
     "output_type": "stream",
     "text": [
      "[('A', 1), ('A', 2), ('B', 1), ('B', 2)]\n"
     ]
    }
   ],
   "source": [
    "print(list(product(letters, range(1,3))))"
   ]
  },
  {
   "cell_type": "code",
   "execution_count": 37,
   "id": "2b526283",
   "metadata": {},
   "outputs": [
    {
     "name": "stdout",
     "output_type": "stream",
     "text": [
      "[('A', 'B'), ('B', 'A')]\n"
     ]
    }
   ],
   "source": [
    "print(list(permutations(letters)))"
   ]
  },
  {
   "cell_type": "markdown",
   "id": "42997c86",
   "metadata": {},
   "source": [
    "# OOP"
   ]
  },
  {
   "cell_type": "markdown",
   "id": "5d967020",
   "metadata": {},
   "source": [
    "## Classes"
   ]
  },
  {
   "cell_type": "code",
   "execution_count": 1,
   "id": "0e145341",
   "metadata": {},
   "outputs": [],
   "source": [
    "class Cat:\n",
    "    def __init__(self, color, legs):\n",
    "        self.color = color\n",
    "        self.legs = legs\n",
    "felix = Cat(\"ginger\", 4)\n",
    "rover = Cat(\"dog-colored\", 4)\n",
    "stumpy = Cat(\"brown\", 3)"
   ]
  },
  {
   "cell_type": "code",
   "execution_count": 2,
   "id": "6e7b9b94",
   "metadata": {},
   "outputs": [
    {
     "name": "stdout",
     "output_type": "stream",
     "text": [
      "ginger\n"
     ]
    }
   ],
   "source": [
    "print(felix.color)"
   ]
  },
  {
   "cell_type": "code",
   "execution_count": 6,
   "id": "ea937723",
   "metadata": {},
   "outputs": [
    {
     "name": "stdout",
     "output_type": "stream",
     "text": [
      "Fido\n",
      "Woof!\n",
      "4\n",
      "4\n"
     ]
    }
   ],
   "source": [
    "class Dog:\n",
    "    legs = 4\n",
    "    def __init__(self, name, color):\n",
    "        self.name = name\n",
    "        self.color = color\n",
    "    def bark(self):\n",
    "        print(\"Woof!\")\n",
    "fido = Dog(\"Fido\", \"Brown\")\n",
    "print(fido.name)\n",
    "fido.bark()\n",
    "print(fido.legs)\n",
    "print(Dog.legs)"
   ]
  },
  {
   "cell_type": "markdown",
   "id": "999c5122",
   "metadata": {},
   "source": [
    "## Inheritance"
   ]
  },
  {
   "cell_type": "code",
   "execution_count": 9,
   "id": "0c81c0b4",
   "metadata": {},
   "outputs": [
    {
     "name": "stdout",
     "output_type": "stream",
     "text": [
      "Brown\n",
      "Woof!\n"
     ]
    }
   ],
   "source": [
    "class Animal:\n",
    "    def __init__(self, name, color):\n",
    "        self.name = name\n",
    "        self.color = color\n",
    "\n",
    "class Cat(Animal):\n",
    "    def purr(self):\n",
    "        print(\"Purr...\")\n",
    "        \n",
    "class Dog(Animal):\n",
    "    def bark(self):\n",
    "        print(\"Woof!\")\n",
    "        \n",
    "fido = Dog(\"Fido\", \"Brown\")\n",
    "print(fido.color)\n",
    "fido.bark()"
   ]
  },
  {
   "cell_type": "code",
   "execution_count": 10,
   "id": "75e45019",
   "metadata": {},
   "outputs": [
    {
     "name": "stdout",
     "output_type": "stream",
     "text": [
      "Woof!\n"
     ]
    }
   ],
   "source": [
    "class Wolf:\n",
    "    def __init__(self, name, color):\n",
    "        self.name = name\n",
    "        self.color = color\n",
    "    \n",
    "    def bark(self):\n",
    "        print(\"Grr...\")\n",
    "        \n",
    "class Dog(Wolf):\n",
    "    def bark(self):\n",
    "        print(\"Woof!\")\n",
    "        \n",
    "husky = Dog(\"Max\", \"Grey\")\n",
    "husky.bark()"
   ]
  },
  {
   "cell_type": "code",
   "execution_count": 11,
   "id": "b1470b79",
   "metadata": {},
   "outputs": [
    {
     "name": "stdout",
     "output_type": "stream",
     "text": [
      "A method\n"
     ]
    }
   ],
   "source": [
    "class A:\n",
    "    def method(self):\n",
    "        print(\"A method\")\n",
    "\n",
    "class B(A):\n",
    "    def second_method(self):\n",
    "        print(\"B method\")\n",
    "        \n",
    "class C(B):\n",
    "    def third_method(self):\n",
    "        print(\"C method\")\n",
    "        \n",
    "c = C()\n",
    "c.method()"
   ]
  },
  {
   "cell_type": "code",
   "execution_count": 12,
   "id": "258ab806",
   "metadata": {},
   "outputs": [
    {
     "name": "stdout",
     "output_type": "stream",
     "text": [
      "2\n",
      "1\n"
     ]
    }
   ],
   "source": [
    "class A:\n",
    "    def spam(self):\n",
    "        print(1)\n",
    "        \n",
    "class B(A):\n",
    "    def spam(self):\n",
    "        print(2)\n",
    "        super().spam()\n",
    "        \n",
    "B().spam()"
   ]
  },
  {
   "cell_type": "markdown",
   "id": "edd992e1",
   "metadata": {},
   "source": [
    "## Magic Methods and Operator Overloading"
   ]
  },
  {
   "cell_type": "markdown",
   "id": "d86a08f6",
   "metadata": {},
   "source": [
    "### Magic Methods\n"
   ]
  },
  {
   "cell_type": "markdown",
   "id": "bb42c336",
   "metadata": {},
   "source": [
    "are special method which have double underscores at the beginning and the end of their names. Also known as <b>dunders</b>"
   ]
  },
  {
   "cell_type": "code",
   "execution_count": 15,
   "id": "668fe4cd",
   "metadata": {},
   "outputs": [
    {
     "name": "stdout",
     "output_type": "stream",
     "text": [
      "8\n",
      "16\n"
     ]
    }
   ],
   "source": [
    "class Vector2D:\n",
    "    def __init__(self, x, y):\n",
    "        self.x = x\n",
    "        self.y = y\n",
    "        \n",
    "    def __add__(self, other):\n",
    "        return Vector2D(self.x + other.x, self.y + other.y)\n",
    "    \n",
    "first = Vector2D(5,7)\n",
    "second = Vector2D(3,9)\n",
    "result = first + second\n",
    "print(result.x)\n",
    "print(result.y)"
   ]
  },
  {
   "cell_type": "markdown",
   "id": "43afd571",
   "metadata": {},
   "source": [
    "More magic methods for common operators: <br>\n",
    "<pre>\n",
    "<b>__sub__</b> for -\n",
    "<b>__mul__</b> for *\n",
    "<b>__truediv__</b> for /\n",
    "<b>__floordiv__</b> for //\n",
    "<b>__mod__</b> for %\n",
    "<b>__pow__</b> for **\n",
    "<b>__and__</b> for &\n",
    "<b>__xor__</b> for ^\n",
    "<b>__or__</b> for |\n",
    "</pre>"
   ]
  },
  {
   "cell_type": "code",
   "execution_count": 18,
   "id": "5864fe55",
   "metadata": {},
   "outputs": [
    {
     "name": "stdout",
     "output_type": "stream",
     "text": [
      "spam\n",
      "=============\n",
      "Hello, World!\n"
     ]
    }
   ],
   "source": [
    "class SpecialString:\n",
    "    def __init__(self, cont):\n",
    "        self.cont = cont\n",
    "    def __truediv__(self, other):\n",
    "        line = \"=\" * len(other.cont)\n",
    "        return \"\\n\".join([self.cont, line, other.cont])\n",
    "spam = SpecialString(\"spam\")\n",
    "hello = SpecialString(\"Hello, World!\")\n",
    "print(spam / hello)"
   ]
  },
  {
   "cell_type": "markdown",
   "id": "5e5daaef",
   "metadata": {},
   "source": [
    "Python also provides magic methods for comparisons.<br>\n",
    "<pre>\n",
    "<b>__lt__</b> for <\n",
    "<b>__le__</b> for <=\n",
    "<b>__eq__</b> for ==\n",
    "<b>__ne__</b> for !=\n",
    "<b>__gt__</b> for >\n",
    "<b>__ge__</b> for >=\n",
    "</pre>"
   ]
  },
  {
   "cell_type": "code",
   "execution_count": 20,
   "id": "079e2f26",
   "metadata": {},
   "outputs": [
    {
     "name": "stdout",
     "output_type": "stream",
     "text": [
      ">spam>eggs\n",
      "e>spam>ggs\n",
      "eg>spam>gs\n",
      "egg>spam>s\n",
      "eggs>spam>\n"
     ]
    }
   ],
   "source": [
    "class SpecialString:\n",
    "    def __init__(self, cont):\n",
    "        self.cont = cont\n",
    "    \n",
    "    def __gt__(self, other):\n",
    "        for index in range(len(other.cont)+1):\n",
    "            result = other.cont[:index] + \">\" + self.cont\n",
    "            result += \">\" + other.cont[index:]\n",
    "            print(result)\n",
    "            \n",
    "spam = SpecialString(\"spam\")\n",
    "eggs = SpecialString(\"eggs\")\n",
    "spam > eggs"
   ]
  },
  {
   "cell_type": "markdown",
   "id": "1e4f8ce0",
   "metadata": {},
   "source": [
    "There are several magic methods for making classes act like containers.\n",
    "<pre>\n",
    "<b>__len__</b> for len()\n",
    "<b>__getitem__</b> for indexing\n",
    "<b>__setitem__</b> for assigning to indexed values\n",
    "<b>__delitem__</b> for deleting indexed values\n",
    "<b>__iter__</b> for iteration over objects (e.g., in for loops)\n",
    "<b>__contains__</b> for in\n",
    "\n",
    "There are many other magic methods that we won't cover here, such as <b>__call__</b> for calling objects as functions, and <b>__int__</b>, <b>__str__</b>, and the like, for converting objects to built-in types.\n",
    "</pre>"
   ]
  },
  {
   "cell_type": "code",
   "execution_count": 21,
   "id": "ade1736a",
   "metadata": {},
   "outputs": [],
   "source": [
    "import random"
   ]
  },
  {
   "cell_type": "code",
   "execution_count": 22,
   "id": "b8b88362",
   "metadata": {},
   "outputs": [
    {
     "name": "stdout",
     "output_type": "stream",
     "text": [
      "8\n",
      "8\n",
      "1\n",
      "1\n"
     ]
    }
   ],
   "source": [
    "class VagueList:\n",
    "    def __init__(self, cont):\n",
    "        self.cont = cont\n",
    "    def __getitem__(self, index):\n",
    "        return self.cont[index + random.randint(-1,1)]\n",
    "    def __len__(self):\n",
    "        return random.randint(0, len(self.cont)*2)\n",
    "    \n",
    "vague_list = VagueList([\"A\",\"B\",\"C\",\"D\",\"E\"])\n",
    "print(len(vague_list))\n",
    "print(len(vague_list))\n",
    "print(len(vague_list[2]))\n",
    "print(len(vague_list[2]))"
   ]
  },
  {
   "cell_type": "code",
   "execution_count": null,
   "id": "e57195c8-73c3-49cf-ad91-e9ffcecf8873",
   "metadata": {},
   "outputs": [],
   "source": []
  }
 ],
 "metadata": {
  "kernelspec": {
   "display_name": "Python 3 (ipykernel)",
   "language": "python",
   "name": "python3"
  },
  "language_info": {
   "codemirror_mode": {
    "name": "ipython",
    "version": 3
   },
   "file_extension": ".py",
   "mimetype": "text/x-python",
   "name": "python",
   "nbconvert_exporter": "python",
   "pygments_lexer": "ipython3",
   "version": "3.7.11"
  }
 },
 "nbformat": 4,
 "nbformat_minor": 5
}
